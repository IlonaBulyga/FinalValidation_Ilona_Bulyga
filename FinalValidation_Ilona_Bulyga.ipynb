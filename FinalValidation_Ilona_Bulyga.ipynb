{
 "cells": [
  {
   "cell_type": "markdown",
   "id": "239554cf-90b4-4566-89b8-526e2c693b1c",
   "metadata": {},
   "source": [
    "### Описание бизнес кейса\n",
    "Вам будут даны несколько кейсов для разных бизнесов с описанием бизнес задачи, которую\n",
    "необходимо решить:\n",
    "1) Подведите результаты эксперимента в экселе по следующим данным: ab_stats.csv - Google Диск: \\\n",
    "Стат значимо ли отличается ARPPU в двух группах ? Какие рекомендации дадите менеджеру?"
   ]
  },
  {
   "cell_type": "code",
   "execution_count": 2,
   "id": "b185054d-bd72-4f4d-8cc6-390fde700a25",
   "metadata": {},
   "outputs": [
    {
     "name": "stdout",
     "output_type": "stream",
     "text": [
      "Размеры датасета (23652, 5)\n"
     ]
    },
    {
     "data": {
      "text/html": [
       "<div>\n",
       "<style scoped>\n",
       "    .dataframe tbody tr th:only-of-type {\n",
       "        vertical-align: middle;\n",
       "    }\n",
       "\n",
       "    .dataframe tbody tr th {\n",
       "        vertical-align: top;\n",
       "    }\n",
       "\n",
       "    .dataframe thead th {\n",
       "        text-align: right;\n",
       "    }\n",
       "</style>\n",
       "<table border=\"1\" class=\"dataframe\">\n",
       "  <thead>\n",
       "    <tr style=\"text-align: right;\">\n",
       "      <th></th>\n",
       "      <th>revenue</th>\n",
       "      <th>num_purchases</th>\n",
       "      <th>purchase</th>\n",
       "      <th>ab_group</th>\n",
       "      <th>av_site visit</th>\n",
       "    </tr>\n",
       "  </thead>\n",
       "  <tbody>\n",
       "    <tr>\n",
       "      <th>0</th>\n",
       "      <td>0.0</td>\n",
       "      <td>0</td>\n",
       "      <td>0</td>\n",
       "      <td>A</td>\n",
       "      <td>9.040174</td>\n",
       "    </tr>\n",
       "    <tr>\n",
       "      <th>1</th>\n",
       "      <td>0.0</td>\n",
       "      <td>0</td>\n",
       "      <td>0</td>\n",
       "      <td>A</td>\n",
       "      <td>4.811628</td>\n",
       "    </tr>\n",
       "    <tr>\n",
       "      <th>2</th>\n",
       "      <td>0.0</td>\n",
       "      <td>0</td>\n",
       "      <td>0</td>\n",
       "      <td>A</td>\n",
       "      <td>7.342623</td>\n",
       "    </tr>\n",
       "    <tr>\n",
       "      <th>3</th>\n",
       "      <td>0.0</td>\n",
       "      <td>0</td>\n",
       "      <td>0</td>\n",
       "      <td>A</td>\n",
       "      <td>7.744581</td>\n",
       "    </tr>\n",
       "    <tr>\n",
       "      <th>4</th>\n",
       "      <td>0.0</td>\n",
       "      <td>0</td>\n",
       "      <td>0</td>\n",
       "      <td>A</td>\n",
       "      <td>10.511814</td>\n",
       "    </tr>\n",
       "  </tbody>\n",
       "</table>\n",
       "</div>"
      ],
      "text/plain": [
       "   revenue  num_purchases  purchase ab_group  av_site visit\n",
       "0      0.0              0         0        A       9.040174\n",
       "1      0.0              0         0        A       4.811628\n",
       "2      0.0              0         0        A       7.342623\n",
       "3      0.0              0         0        A       7.744581\n",
       "4      0.0              0         0        A      10.511814"
      ]
     },
     "execution_count": 2,
     "metadata": {},
     "output_type": "execute_result"
    }
   ],
   "source": [
    "import pandas as pd\n",
    "import numpy as np\n",
    "import scipy.stats as stats\n",
    "data_path = \"ab_stats.csv\"\n",
    "data = pd.read_csv(data_path)\n",
    "print(\"Размеры датасета\", data.shape)\n",
    "data.head()"
   ]
  },
  {
   "cell_type": "code",
   "execution_count": 3,
   "id": "6940f1ac-ba60-4af3-9b79-84fa8f3ea280",
   "metadata": {},
   "outputs": [
    {
     "data": {
      "text/html": [
       "<div>\n",
       "<style scoped>\n",
       "    .dataframe tbody tr th:only-of-type {\n",
       "        vertical-align: middle;\n",
       "    }\n",
       "\n",
       "    .dataframe tbody tr th {\n",
       "        vertical-align: top;\n",
       "    }\n",
       "\n",
       "    .dataframe thead th {\n",
       "        text-align: right;\n",
       "    }\n",
       "</style>\n",
       "<table border=\"1\" class=\"dataframe\">\n",
       "  <thead>\n",
       "    <tr style=\"text-align: right;\">\n",
       "      <th></th>\n",
       "      <th>revenue</th>\n",
       "      <th>num_purchases</th>\n",
       "      <th>purchase</th>\n",
       "      <th>ab_group</th>\n",
       "      <th>av_site visit</th>\n",
       "      <th>ARPPU</th>\n",
       "    </tr>\n",
       "  </thead>\n",
       "  <tbody>\n",
       "    <tr>\n",
       "      <th>0</th>\n",
       "      <td>0.0</td>\n",
       "      <td>0</td>\n",
       "      <td>0</td>\n",
       "      <td>A</td>\n",
       "      <td>9.040174</td>\n",
       "      <td>0.0</td>\n",
       "    </tr>\n",
       "    <tr>\n",
       "      <th>1</th>\n",
       "      <td>0.0</td>\n",
       "      <td>0</td>\n",
       "      <td>0</td>\n",
       "      <td>A</td>\n",
       "      <td>4.811628</td>\n",
       "      <td>0.0</td>\n",
       "    </tr>\n",
       "    <tr>\n",
       "      <th>2</th>\n",
       "      <td>0.0</td>\n",
       "      <td>0</td>\n",
       "      <td>0</td>\n",
       "      <td>A</td>\n",
       "      <td>7.342623</td>\n",
       "      <td>0.0</td>\n",
       "    </tr>\n",
       "    <tr>\n",
       "      <th>3</th>\n",
       "      <td>0.0</td>\n",
       "      <td>0</td>\n",
       "      <td>0</td>\n",
       "      <td>A</td>\n",
       "      <td>7.744581</td>\n",
       "      <td>0.0</td>\n",
       "    </tr>\n",
       "    <tr>\n",
       "      <th>4</th>\n",
       "      <td>0.0</td>\n",
       "      <td>0</td>\n",
       "      <td>0</td>\n",
       "      <td>A</td>\n",
       "      <td>10.511814</td>\n",
       "      <td>0.0</td>\n",
       "    </tr>\n",
       "  </tbody>\n",
       "</table>\n",
       "</div>"
      ],
      "text/plain": [
       "   revenue  num_purchases  purchase ab_group  av_site visit  ARPPU\n",
       "0      0.0              0         0        A       9.040174    0.0\n",
       "1      0.0              0         0        A       4.811628    0.0\n",
       "2      0.0              0         0        A       7.342623    0.0\n",
       "3      0.0              0         0        A       7.744581    0.0\n",
       "4      0.0              0         0        A      10.511814    0.0"
      ]
     },
     "execution_count": 3,
     "metadata": {},
     "output_type": "execute_result"
    }
   ],
   "source": [
    "# Создаем столбец, в котором вычисляем ARPPU\n",
    "data['ARPPU'] = np.where(data['num_purchases'] > 0, data['revenue'] / data['num_purchases'], 0)\n",
    "data.head()"
   ]
  },
  {
   "cell_type": "code",
   "execution_count": 4,
   "id": "2b679514-253e-43b9-be04-345e40cb51b3",
   "metadata": {},
   "outputs": [],
   "source": [
    "dataA = data.drop(data[data['ab_group'] == 'A'].index)  # Таблица для А группы\n",
    "dataB = data.drop(data[data['ab_group'] == 'B'].index)  # Таблица для В группы\n",
    "choiceA = dataA['ARPPU']  # выборка ARPPU для группы А\n",
    "choiceB = dataB['ARPPU']  # выборка ARPPU для группы В"
   ]
  },
  {
   "cell_type": "code",
   "execution_count": 5,
   "id": "f4c83778-1094-41d9-bd32-f1338dd54bf1",
   "metadata": {},
   "outputs": [
    {
     "name": "stdout",
     "output_type": "stream",
     "text": [
      "stats = -0.525, p_value = 0.599\n",
      "Результат не является статистически значимым\n"
     ]
    }
   ],
   "source": [
    "# Выполним t-тест для проверки значимости разницы ARPPU в группах А и В\n",
    "t_stat, p_value = stats.ttest_ind(choiceA, choiceB)\n",
    "print(f'stats = {t_stat:.3f}, p_value = {p_value:.3f}')\n",
    "if p_value < 0.05:\n",
    "    print (f'Результат статистически значим')\n",
    "else:\n",
    "    print(f'Результат не является статистически значимым')"
   ]
  },
  {
   "cell_type": "markdown",
   "id": "c0a4c1e9-3052-42d3-91c5-ac961e86b11a",
   "metadata": {},
   "source": [
    "#### Так как ARPPU в двух группах статистически значимо не отличаются, данная гипотеза не работает. "
   ]
  },
  {
   "cell_type": "markdown",
   "id": "17eb9142-c354-4ace-994e-585daae4a644",
   "metadata": {},
   "source": [
    "### Описание бизнес кейса\n",
    "2) Мы хотим провести А/Б-тест для трех источников трафика. Нынешняя конверсия равна 5%, мы ожидаем прирост в 0,2%. \\\n",
    "Уровень доверия 97% и уровень мощности 87%. \\\n",
    "Всего на наш продукт заходит 40 000 пользователей в месяц.\n",
    "3) За сколько дней мы сможем протестировать гипотезу? И что вы можете посоветовать по результатам подсчета? \\\n",
    "3.1) Допустим в задаче нет проблемы с количеством посетителей на сайт, тогда подведите результаты тестирования, если у нас следующие результаты по количеству конверсии:\n",
    "1. 25 000\n",
    "2. 30 000\n",
    "3. 32 000"
   ]
  },
  {
   "cell_type": "markdown",
   "id": "269fd52c-6eac-483b-abf5-329ccf04f412",
   "metadata": {},
   "source": [
    "3. Используем Калькулятор достоверности АB-тестов на сайте mindbox.ru \\\n",
    "![Калькулятор1](Calculator.jpg)\n",
    "#### Как мы видим из результатов выборка должна быть - 1,522,706 человек. Если в месяц заходит 40,000 пользователей, то нам понадобится примерно 1142 дня (это более 3-ех лет). Следовательно, от этого теста лучше отказаться, либо же менять какие-то параметры."
   ]
  },
  {
   "cell_type": "markdown",
   "id": "174af224-3041-4478-bd0e-4ba0ecb048fc",
   "metadata": {},
   "source": [
    "3.1 Используем Калькулятор достоверности АB-тестов на сайте mindbox.ru \\\n",
    "![Калькулятор2](Calculator2.jpg)\n",
    "#### Как мы видим из результатов вариант В лучше варианта А. И вариант С лучше вариантов А и В. Следовательно, разница в конверсиях статистически значимы и вариант надо отдать предпочтение варианту С (с конверсией 32000)."
   ]
  },
  {
   "cell_type": "markdown",
   "id": "3f45a520-e9ea-497f-8b12-a597ab0f7380",
   "metadata": {},
   "source": [
    "### Описание бизнес кейса\n",
    "4) Вы решили сравнивать метрику CPA в двух группах. Размер выборки - 2350 элементов в каждой группе. \\\n",
    "Для проверки нормальности распределения на выборке в 2350 наблюдений применили, критерий Шапиро-Уилка и получили p-value, равный 0.00002, alpha = 5%. \\\n",
    "Какой бы вывод мы могли сделать в данном случае? \\\n",
    "В этом случае какой статистический критерий для проверки первоначальной гипотезы тут лучше всего подойдёт и почему? \\"
   ]
  },
  {
   "cell_type": "markdown",
   "id": "cb306663-a6cf-406e-9411-ea88d43fbf2c",
   "metadata": {},
   "source": [
    "#### Нулевая гипотеза в тесте Шапиро-Уилка заключается в том, что данные имеют нормальное распределение. Поскольку значение p-value (0.00002) значительно меньше уровня значимости (alpha = 0.05), мы отвергаем нулевую гипотезу о нормальности распределения и не можем использовать t-test или z-test. Следовательно, мы должны использовать Критерий Манна—Уитни (2 группы, независимые выборки, не нормальное распределение)"
   ]
  },
  {
   "cell_type": "markdown",
   "id": "4248828d-efc4-4728-bc96-a41b4edef815",
   "metadata": {},
   "source": [
    "### Описание бизнес кейса\n",
    "5) Мы провели АБ-тест на увеличение average timespent per user. По итогам тестирования мы получили следующие данные. Является ли результат статистически значимым с уровнем доверия 80%? Какую версию мы выкатим на продакшн? \\\n",
    "A) Средняя - 360, отклонение - 40, количество - 9802 \\\n",
    "B) Средняя - 352, отклонение - 58, количество - 9789"
   ]
  },
  {
   "cell_type": "code",
   "execution_count": 13,
   "id": "91114ff8-57f2-4dcc-a7e0-99aa2c1c0c96",
   "metadata": {},
   "outputs": [],
   "source": [
    "import math\n",
    "import scipy.stats as stats"
   ]
  },
  {
   "cell_type": "markdown",
   "id": "b6bd1185-cc98-4bc7-9e9a-6b952d5505ca",
   "metadata": {},
   "source": [
    "Чтобы определить, является ли результат статистически значимым с уровнем доверия 80%, нам нужно провести тест на значимость разницы между двумя средними значениями. В данном случае мы будем использовать t-тест для независимых выборок. Вычислим t-статистику и сравним ее с t-критическим."
   ]
  },
  {
   "cell_type": "code",
   "execution_count": 15,
   "id": "baf3070c-9604-4b70-9491-48901c9f3b10",
   "metadata": {},
   "outputs": [],
   "source": [
    "m1 = 360\n",
    "sd1 = 40\n",
    "n1 = 9802\n",
    "m2 = 352\n",
    "sd2 = 58\n",
    "n2 = 9789\n",
    "alfa = 1 - 0.8\n",
    "df = n1 + n2 -2"
   ]
  },
  {
   "cell_type": "code",
   "execution_count": 16,
   "id": "85a8acc2-8745-44b0-a8a5-559a2d3f90fb",
   "metadata": {},
   "outputs": [
    {
     "name": "stdout",
     "output_type": "stream",
     "text": [
      "t-статистика = 11.24\n",
      "Критерий Стюдента для alfha = 0.2 и 19589 степеней свободы = 1.28\n",
      "Результат статистически значим с уровнем доверия 80%\n"
     ]
    }
   ],
   "source": [
    "t = (m1 - m2) / math.sqrt(sd1**2 / n1 + sd2**2 / n2)\n",
    "t_kr = stats.t.ppf(1 - alfa / 2, df)\n",
    "print(f't-статистика = {t:.2f}')\n",
    "print(f'Критерий Стюдента для alfha = {alfa:.1f} и {df} степеней свободы = {t_kr:.2f}')\n",
    "if t > t_kr:\n",
    "    print (f'Результат статистически значим с уровнем доверия 80%')\n",
    "else:\n",
    "    print(f'Результат не является статистически значимым с уровнем доверия 80%')"
   ]
  },
  {
   "cell_type": "markdown",
   "id": "5f6888f9-3c16-4095-9033-aaa19d321183",
   "metadata": {},
   "source": [
    "#### Поскольку средняя для группы A (360) больше средней для группы B (352) и результат статистически значим, мы можем сделать вывод, что версия A (с средней 360) будет выкатана на продакшн."
   ]
  }
 ],
 "metadata": {
  "kernelspec": {
   "display_name": "Python 3 (ipykernel)",
   "language": "python",
   "name": "python3"
  },
  "language_info": {
   "codemirror_mode": {
    "name": "ipython",
    "version": 3
   },
   "file_extension": ".py",
   "mimetype": "text/x-python",
   "name": "python",
   "nbconvert_exporter": "python",
   "pygments_lexer": "ipython3",
   "version": "3.12.7"
  }
 },
 "nbformat": 4,
 "nbformat_minor": 5
}
